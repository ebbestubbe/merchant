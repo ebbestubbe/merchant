{
 "metadata": {
  "language_info": {
   "codemirror_mode": {
    "name": "ipython",
    "version": 3
   },
   "file_extension": ".py",
   "mimetype": "text/x-python",
   "name": "python",
   "nbconvert_exporter": "python",
   "pygments_lexer": "ipython3",
   "version": "3.8.3-final"
  },
  "orig_nbformat": 2,
  "kernelspec": {
   "name": "python3",
   "display_name": "Python 3",
   "language": "python"
  }
 },
 "nbformat": 4,
 "nbformat_minor": 2,
 "cells": [
  {
   "cell_type": "code",
   "execution_count": 1,
   "metadata": {},
   "outputs": [],
   "source": [
    "import json\n",
    "import pandas as pd\n",
    "import matplotlib.pyplot as plt\n",
    "import numpy as np"
   ]
  },
  {
   "cell_type": "code",
   "execution_count": 2,
   "metadata": {},
   "outputs": [],
   "source": [
    "def get_requirements(df_in):\n",
    "    reqs = pd.DataFrame(df_in['requires'].values.tolist(), index=df_in.index)\n",
    "    return reqs\n",
    "\n",
    "with open('items.json') as json_file:\n",
    "    data = json.load(json_file)\n",
    "categories = data.keys()\n",
    "\n",
    "dfs_all_items = []\n",
    "dfs_craftable = []\n",
    "for c in categories:\n",
    "    df = pd.DataFrame.from_dict(\n",
    "        data=data[c],\n",
    "        orient=\"index\")\n",
    "\n",
    "    df.index.name = \"name\"\n",
    "    df['category'] = c\n",
    "    dfs_all_items.append(df)\n",
    "    if(\"requires\" in df.columns):\n",
    "        dfs_craftable.append(df)\n",
    "all_items = pd.concat(dfs_all_items)\n",
    "craftables = pd.concat(dfs_craftable)\n",
    "\n",
    "requires = get_requirements(craftables)"
   ]
  },
  {
   "cell_type": "code",
   "execution_count": 3,
   "metadata": {},
   "outputs": [
    {
     "output_type": "execute_result",
     "data": {
      "text/plain": [
       "                     tier  sell_price  sell_time    category  \\\n",
       "name                                                           \n",
       "iron_ore                1           3        8.0    material   \n",
       "spider_leg              1           8       20.0    material   \n",
       "darksteel_ore           4          14       20.0    material   \n",
       "darksteel_chunk         4          14       20.0    material   \n",
       "scorpion_shell          4          15       25.0    material   \n",
       "tuvale_moss             1           3        8.0    material   \n",
       "ashe_root               1           3        8.0    material   \n",
       "forest_crystel          1          40        NaN    material   \n",
       "darksteel_ingot         4          88       35.0    crafting   \n",
       "darksteel_sheet         4          88       35.0    crafting   \n",
       "lesser_potion           1          23       25.0  consumable   \n",
       "xp_boost                1          23       25.0  consumable   \n",
       "iron_dagger             1           0        0.0      weapon   \n",
       "iron_sword              1           0        0.0      weapon   \n",
       "darksteel_platemail     4           0        0.0       armor   \n",
       "scorpion_platemail      4           0        0.0       armor   \n",
       "\n",
       "                                                              requires  \\\n",
       "name                                                                     \n",
       "iron_ore                                                           NaN   \n",
       "spider_leg                                                         NaN   \n",
       "darksteel_ore                                                      NaN   \n",
       "darksteel_chunk                                                    NaN   \n",
       "scorpion_shell                                                     NaN   \n",
       "tuvale_moss                                                        NaN   \n",
       "ashe_root                                                          NaN   \n",
       "forest_crystel                                                     NaN   \n",
       "darksteel_ingot                                   {'darksteel_ore': 2}   \n",
       "darksteel_sheet                                 {'darksteel_chunk': 2}   \n",
       "lesser_potion                       {'tuvale_moss': 2, 'ashe_root': 2}   \n",
       "xp_boost             {'lesser_potion': 1, 'forest_crystel': 2, 'ash...   \n",
       "iron_dagger                                          {'iron_ingot': 2}   \n",
       "iron_sword                            {'iron_ore': 1, 'iron_ingot': 1}   \n",
       "darksteel_platemail       {'darksteel_sheet': 4, 'darksteel_chunk': 1}   \n",
       "scorpion_platemail   {'darksteel_platemail': 1, 'darksteel_chunk': ...   \n",
       "\n",
       "                     craft_cost  craft_time   exp  \n",
       "name                                               \n",
       "iron_ore                    NaN         NaN   NaN  \n",
       "spider_leg                  NaN         NaN   NaN  \n",
       "darksteel_ore               NaN         NaN   NaN  \n",
       "darksteel_chunk             NaN         NaN   NaN  \n",
       "scorpion_shell              NaN         NaN   NaN  \n",
       "tuvale_moss                 NaN         NaN   NaN  \n",
       "ashe_root                   NaN         NaN   NaN  \n",
       "forest_crystel              NaN         NaN   NaN  \n",
       "darksteel_ingot            40.0        60.0   NaN  \n",
       "darksteel_sheet            40.0        60.0   NaN  \n",
       "lesser_potion              15.0        22.0  32.0  \n",
       "xp_boost                   80.0        60.0  32.0  \n",
       "iron_dagger                 NaN         NaN   NaN  \n",
       "iron_sword                  NaN         NaN   NaN  \n",
       "darksteel_platemail       250.0         0.0   NaN  \n",
       "scorpion_platemail        300.0       600.0   NaN  "
      ],
      "text/html": "<div>\n<style scoped>\n    .dataframe tbody tr th:only-of-type {\n        vertical-align: middle;\n    }\n\n    .dataframe tbody tr th {\n        vertical-align: top;\n    }\n\n    .dataframe thead th {\n        text-align: right;\n    }\n</style>\n<table border=\"1\" class=\"dataframe\">\n  <thead>\n    <tr style=\"text-align: right;\">\n      <th></th>\n      <th>tier</th>\n      <th>sell_price</th>\n      <th>sell_time</th>\n      <th>category</th>\n      <th>requires</th>\n      <th>craft_cost</th>\n      <th>craft_time</th>\n      <th>exp</th>\n    </tr>\n    <tr>\n      <th>name</th>\n      <th></th>\n      <th></th>\n      <th></th>\n      <th></th>\n      <th></th>\n      <th></th>\n      <th></th>\n      <th></th>\n    </tr>\n  </thead>\n  <tbody>\n    <tr>\n      <th>iron_ore</th>\n      <td>1</td>\n      <td>3</td>\n      <td>8.0</td>\n      <td>material</td>\n      <td>NaN</td>\n      <td>NaN</td>\n      <td>NaN</td>\n      <td>NaN</td>\n    </tr>\n    <tr>\n      <th>spider_leg</th>\n      <td>1</td>\n      <td>8</td>\n      <td>20.0</td>\n      <td>material</td>\n      <td>NaN</td>\n      <td>NaN</td>\n      <td>NaN</td>\n      <td>NaN</td>\n    </tr>\n    <tr>\n      <th>darksteel_ore</th>\n      <td>4</td>\n      <td>14</td>\n      <td>20.0</td>\n      <td>material</td>\n      <td>NaN</td>\n      <td>NaN</td>\n      <td>NaN</td>\n      <td>NaN</td>\n    </tr>\n    <tr>\n      <th>darksteel_chunk</th>\n      <td>4</td>\n      <td>14</td>\n      <td>20.0</td>\n      <td>material</td>\n      <td>NaN</td>\n      <td>NaN</td>\n      <td>NaN</td>\n      <td>NaN</td>\n    </tr>\n    <tr>\n      <th>scorpion_shell</th>\n      <td>4</td>\n      <td>15</td>\n      <td>25.0</td>\n      <td>material</td>\n      <td>NaN</td>\n      <td>NaN</td>\n      <td>NaN</td>\n      <td>NaN</td>\n    </tr>\n    <tr>\n      <th>tuvale_moss</th>\n      <td>1</td>\n      <td>3</td>\n      <td>8.0</td>\n      <td>material</td>\n      <td>NaN</td>\n      <td>NaN</td>\n      <td>NaN</td>\n      <td>NaN</td>\n    </tr>\n    <tr>\n      <th>ashe_root</th>\n      <td>1</td>\n      <td>3</td>\n      <td>8.0</td>\n      <td>material</td>\n      <td>NaN</td>\n      <td>NaN</td>\n      <td>NaN</td>\n      <td>NaN</td>\n    </tr>\n    <tr>\n      <th>forest_crystel</th>\n      <td>1</td>\n      <td>40</td>\n      <td>NaN</td>\n      <td>material</td>\n      <td>NaN</td>\n      <td>NaN</td>\n      <td>NaN</td>\n      <td>NaN</td>\n    </tr>\n    <tr>\n      <th>darksteel_ingot</th>\n      <td>4</td>\n      <td>88</td>\n      <td>35.0</td>\n      <td>crafting</td>\n      <td>{'darksteel_ore': 2}</td>\n      <td>40.0</td>\n      <td>60.0</td>\n      <td>NaN</td>\n    </tr>\n    <tr>\n      <th>darksteel_sheet</th>\n      <td>4</td>\n      <td>88</td>\n      <td>35.0</td>\n      <td>crafting</td>\n      <td>{'darksteel_chunk': 2}</td>\n      <td>40.0</td>\n      <td>60.0</td>\n      <td>NaN</td>\n    </tr>\n    <tr>\n      <th>lesser_potion</th>\n      <td>1</td>\n      <td>23</td>\n      <td>25.0</td>\n      <td>consumable</td>\n      <td>{'tuvale_moss': 2, 'ashe_root': 2}</td>\n      <td>15.0</td>\n      <td>22.0</td>\n      <td>32.0</td>\n    </tr>\n    <tr>\n      <th>xp_boost</th>\n      <td>1</td>\n      <td>23</td>\n      <td>25.0</td>\n      <td>consumable</td>\n      <td>{'lesser_potion': 1, 'forest_crystel': 2, 'ash...</td>\n      <td>80.0</td>\n      <td>60.0</td>\n      <td>32.0</td>\n    </tr>\n    <tr>\n      <th>iron_dagger</th>\n      <td>1</td>\n      <td>0</td>\n      <td>0.0</td>\n      <td>weapon</td>\n      <td>{'iron_ingot': 2}</td>\n      <td>NaN</td>\n      <td>NaN</td>\n      <td>NaN</td>\n    </tr>\n    <tr>\n      <th>iron_sword</th>\n      <td>1</td>\n      <td>0</td>\n      <td>0.0</td>\n      <td>weapon</td>\n      <td>{'iron_ore': 1, 'iron_ingot': 1}</td>\n      <td>NaN</td>\n      <td>NaN</td>\n      <td>NaN</td>\n    </tr>\n    <tr>\n      <th>darksteel_platemail</th>\n      <td>4</td>\n      <td>0</td>\n      <td>0.0</td>\n      <td>armor</td>\n      <td>{'darksteel_sheet': 4, 'darksteel_chunk': 1}</td>\n      <td>250.0</td>\n      <td>0.0</td>\n      <td>NaN</td>\n    </tr>\n    <tr>\n      <th>scorpion_platemail</th>\n      <td>4</td>\n      <td>0</td>\n      <td>0.0</td>\n      <td>armor</td>\n      <td>{'darksteel_platemail': 1, 'darksteel_chunk': ...</td>\n      <td>300.0</td>\n      <td>600.0</td>\n      <td>NaN</td>\n    </tr>\n  </tbody>\n</table>\n</div>"
     },
     "metadata": {},
     "execution_count": 3
    }
   ],
   "source": [
    "all_items"
   ]
  },
  {
   "cell_type": "code",
   "execution_count": 4,
   "metadata": {},
   "outputs": [
    {
     "output_type": "execute_result",
     "data": {
      "text/plain": [
       "                     tier  sell_price  sell_time  \\\n",
       "name                                               \n",
       "darksteel_ingot         4          88         35   \n",
       "darksteel_sheet         4          88         35   \n",
       "lesser_potion           1          23         25   \n",
       "xp_boost                1          23         25   \n",
       "iron_dagger             1           0          0   \n",
       "iron_sword              1           0          0   \n",
       "darksteel_platemail     4           0          0   \n",
       "scorpion_platemail      4           0          0   \n",
       "\n",
       "                                                              requires  \\\n",
       "name                                                                     \n",
       "darksteel_ingot                                   {'darksteel_ore': 2}   \n",
       "darksteel_sheet                                 {'darksteel_chunk': 2}   \n",
       "lesser_potion                       {'tuvale_moss': 2, 'ashe_root': 2}   \n",
       "xp_boost             {'lesser_potion': 1, 'forest_crystel': 2, 'ash...   \n",
       "iron_dagger                                          {'iron_ingot': 2}   \n",
       "iron_sword                            {'iron_ore': 1, 'iron_ingot': 1}   \n",
       "darksteel_platemail       {'darksteel_sheet': 4, 'darksteel_chunk': 1}   \n",
       "scorpion_platemail   {'darksteel_platemail': 1, 'darksteel_chunk': ...   \n",
       "\n",
       "                     craft_cost  craft_time    category   exp  \n",
       "name                                                           \n",
       "darksteel_ingot            40.0        60.0    crafting   NaN  \n",
       "darksteel_sheet            40.0        60.0    crafting   NaN  \n",
       "lesser_potion              15.0        22.0  consumable  32.0  \n",
       "xp_boost                   80.0        60.0  consumable  32.0  \n",
       "iron_dagger                 NaN         NaN      weapon   NaN  \n",
       "iron_sword                  NaN         NaN      weapon   NaN  \n",
       "darksteel_platemail       250.0         0.0       armor   NaN  \n",
       "scorpion_platemail        300.0       600.0       armor   NaN  "
      ],
      "text/html": "<div>\n<style scoped>\n    .dataframe tbody tr th:only-of-type {\n        vertical-align: middle;\n    }\n\n    .dataframe tbody tr th {\n        vertical-align: top;\n    }\n\n    .dataframe thead th {\n        text-align: right;\n    }\n</style>\n<table border=\"1\" class=\"dataframe\">\n  <thead>\n    <tr style=\"text-align: right;\">\n      <th></th>\n      <th>tier</th>\n      <th>sell_price</th>\n      <th>sell_time</th>\n      <th>requires</th>\n      <th>craft_cost</th>\n      <th>craft_time</th>\n      <th>category</th>\n      <th>exp</th>\n    </tr>\n    <tr>\n      <th>name</th>\n      <th></th>\n      <th></th>\n      <th></th>\n      <th></th>\n      <th></th>\n      <th></th>\n      <th></th>\n      <th></th>\n    </tr>\n  </thead>\n  <tbody>\n    <tr>\n      <th>darksteel_ingot</th>\n      <td>4</td>\n      <td>88</td>\n      <td>35</td>\n      <td>{'darksteel_ore': 2}</td>\n      <td>40.0</td>\n      <td>60.0</td>\n      <td>crafting</td>\n      <td>NaN</td>\n    </tr>\n    <tr>\n      <th>darksteel_sheet</th>\n      <td>4</td>\n      <td>88</td>\n      <td>35</td>\n      <td>{'darksteel_chunk': 2}</td>\n      <td>40.0</td>\n      <td>60.0</td>\n      <td>crafting</td>\n      <td>NaN</td>\n    </tr>\n    <tr>\n      <th>lesser_potion</th>\n      <td>1</td>\n      <td>23</td>\n      <td>25</td>\n      <td>{'tuvale_moss': 2, 'ashe_root': 2}</td>\n      <td>15.0</td>\n      <td>22.0</td>\n      <td>consumable</td>\n      <td>32.0</td>\n    </tr>\n    <tr>\n      <th>xp_boost</th>\n      <td>1</td>\n      <td>23</td>\n      <td>25</td>\n      <td>{'lesser_potion': 1, 'forest_crystel': 2, 'ash...</td>\n      <td>80.0</td>\n      <td>60.0</td>\n      <td>consumable</td>\n      <td>32.0</td>\n    </tr>\n    <tr>\n      <th>iron_dagger</th>\n      <td>1</td>\n      <td>0</td>\n      <td>0</td>\n      <td>{'iron_ingot': 2}</td>\n      <td>NaN</td>\n      <td>NaN</td>\n      <td>weapon</td>\n      <td>NaN</td>\n    </tr>\n    <tr>\n      <th>iron_sword</th>\n      <td>1</td>\n      <td>0</td>\n      <td>0</td>\n      <td>{'iron_ore': 1, 'iron_ingot': 1}</td>\n      <td>NaN</td>\n      <td>NaN</td>\n      <td>weapon</td>\n      <td>NaN</td>\n    </tr>\n    <tr>\n      <th>darksteel_platemail</th>\n      <td>4</td>\n      <td>0</td>\n      <td>0</td>\n      <td>{'darksteel_sheet': 4, 'darksteel_chunk': 1}</td>\n      <td>250.0</td>\n      <td>0.0</td>\n      <td>armor</td>\n      <td>NaN</td>\n    </tr>\n    <tr>\n      <th>scorpion_platemail</th>\n      <td>4</td>\n      <td>0</td>\n      <td>0</td>\n      <td>{'darksteel_platemail': 1, 'darksteel_chunk': ...</td>\n      <td>300.0</td>\n      <td>600.0</td>\n      <td>armor</td>\n      <td>NaN</td>\n    </tr>\n  </tbody>\n</table>\n</div>"
     },
     "metadata": {},
     "execution_count": 4
    }
   ],
   "source": [
    "craftables"
   ]
  },
  {
   "cell_type": "code",
   "execution_count": 5,
   "metadata": {},
   "outputs": [
    {
     "output_type": "execute_result",
     "data": {
      "text/plain": [
       "                     darksteel_ore  darksteel_chunk  tuvale_moss  ashe_root  \\\n",
       "name                                                                          \n",
       "darksteel_ingot                2.0              NaN          NaN        NaN   \n",
       "darksteel_sheet                NaN              2.0          NaN        NaN   \n",
       "lesser_potion                  NaN              NaN          2.0        2.0   \n",
       "xp_boost                       NaN              NaN          NaN        4.0   \n",
       "iron_dagger                    NaN              NaN          NaN        NaN   \n",
       "iron_sword                     NaN              NaN          NaN        NaN   \n",
       "darksteel_platemail            NaN              1.0          NaN        NaN   \n",
       "scorpion_platemail             NaN              2.0          NaN        NaN   \n",
       "\n",
       "                     lesser_potion  forest_crystel  iron_ingot  iron_ore  \\\n",
       "name                                                                       \n",
       "darksteel_ingot                NaN             NaN         NaN       NaN   \n",
       "darksteel_sheet                NaN             NaN         NaN       NaN   \n",
       "lesser_potion                  NaN             NaN         NaN       NaN   \n",
       "xp_boost                       1.0             2.0         NaN       NaN   \n",
       "iron_dagger                    NaN             NaN         2.0       NaN   \n",
       "iron_sword                     NaN             NaN         1.0       1.0   \n",
       "darksteel_platemail            NaN             NaN         NaN       NaN   \n",
       "scorpion_platemail             NaN             NaN         NaN       NaN   \n",
       "\n",
       "                     darksteel_sheet  darksteel_platemail  scorpion_shell  \n",
       "name                                                                       \n",
       "darksteel_ingot                  NaN                  NaN             NaN  \n",
       "darksteel_sheet                  NaN                  NaN             NaN  \n",
       "lesser_potion                    NaN                  NaN             NaN  \n",
       "xp_boost                         NaN                  NaN             NaN  \n",
       "iron_dagger                      NaN                  NaN             NaN  \n",
       "iron_sword                       NaN                  NaN             NaN  \n",
       "darksteel_platemail              4.0                  NaN             NaN  \n",
       "scorpion_platemail               NaN                  1.0             5.0  "
      ],
      "text/html": "<div>\n<style scoped>\n    .dataframe tbody tr th:only-of-type {\n        vertical-align: middle;\n    }\n\n    .dataframe tbody tr th {\n        vertical-align: top;\n    }\n\n    .dataframe thead th {\n        text-align: right;\n    }\n</style>\n<table border=\"1\" class=\"dataframe\">\n  <thead>\n    <tr style=\"text-align: right;\">\n      <th></th>\n      <th>darksteel_ore</th>\n      <th>darksteel_chunk</th>\n      <th>tuvale_moss</th>\n      <th>ashe_root</th>\n      <th>lesser_potion</th>\n      <th>forest_crystel</th>\n      <th>iron_ingot</th>\n      <th>iron_ore</th>\n      <th>darksteel_sheet</th>\n      <th>darksteel_platemail</th>\n      <th>scorpion_shell</th>\n    </tr>\n    <tr>\n      <th>name</th>\n      <th></th>\n      <th></th>\n      <th></th>\n      <th></th>\n      <th></th>\n      <th></th>\n      <th></th>\n      <th></th>\n      <th></th>\n      <th></th>\n      <th></th>\n    </tr>\n  </thead>\n  <tbody>\n    <tr>\n      <th>darksteel_ingot</th>\n      <td>2.0</td>\n      <td>NaN</td>\n      <td>NaN</td>\n      <td>NaN</td>\n      <td>NaN</td>\n      <td>NaN</td>\n      <td>NaN</td>\n      <td>NaN</td>\n      <td>NaN</td>\n      <td>NaN</td>\n      <td>NaN</td>\n    </tr>\n    <tr>\n      <th>darksteel_sheet</th>\n      <td>NaN</td>\n      <td>2.0</td>\n      <td>NaN</td>\n      <td>NaN</td>\n      <td>NaN</td>\n      <td>NaN</td>\n      <td>NaN</td>\n      <td>NaN</td>\n      <td>NaN</td>\n      <td>NaN</td>\n      <td>NaN</td>\n    </tr>\n    <tr>\n      <th>lesser_potion</th>\n      <td>NaN</td>\n      <td>NaN</td>\n      <td>2.0</td>\n      <td>2.0</td>\n      <td>NaN</td>\n      <td>NaN</td>\n      <td>NaN</td>\n      <td>NaN</td>\n      <td>NaN</td>\n      <td>NaN</td>\n      <td>NaN</td>\n    </tr>\n    <tr>\n      <th>xp_boost</th>\n      <td>NaN</td>\n      <td>NaN</td>\n      <td>NaN</td>\n      <td>4.0</td>\n      <td>1.0</td>\n      <td>2.0</td>\n      <td>NaN</td>\n      <td>NaN</td>\n      <td>NaN</td>\n      <td>NaN</td>\n      <td>NaN</td>\n    </tr>\n    <tr>\n      <th>iron_dagger</th>\n      <td>NaN</td>\n      <td>NaN</td>\n      <td>NaN</td>\n      <td>NaN</td>\n      <td>NaN</td>\n      <td>NaN</td>\n      <td>2.0</td>\n      <td>NaN</td>\n      <td>NaN</td>\n      <td>NaN</td>\n      <td>NaN</td>\n    </tr>\n    <tr>\n      <th>iron_sword</th>\n      <td>NaN</td>\n      <td>NaN</td>\n      <td>NaN</td>\n      <td>NaN</td>\n      <td>NaN</td>\n      <td>NaN</td>\n      <td>1.0</td>\n      <td>1.0</td>\n      <td>NaN</td>\n      <td>NaN</td>\n      <td>NaN</td>\n    </tr>\n    <tr>\n      <th>darksteel_platemail</th>\n      <td>NaN</td>\n      <td>1.0</td>\n      <td>NaN</td>\n      <td>NaN</td>\n      <td>NaN</td>\n      <td>NaN</td>\n      <td>NaN</td>\n      <td>NaN</td>\n      <td>4.0</td>\n      <td>NaN</td>\n      <td>NaN</td>\n    </tr>\n    <tr>\n      <th>scorpion_platemail</th>\n      <td>NaN</td>\n      <td>2.0</td>\n      <td>NaN</td>\n      <td>NaN</td>\n      <td>NaN</td>\n      <td>NaN</td>\n      <td>NaN</td>\n      <td>NaN</td>\n      <td>NaN</td>\n      <td>1.0</td>\n      <td>5.0</td>\n    </tr>\n  </tbody>\n</table>\n</div>"
     },
     "metadata": {},
     "execution_count": 5
    }
   ],
   "source": [
    "requires"
   ]
  },
  {
   "cell_type": "code",
   "execution_count": 6,
   "metadata": {},
   "outputs": [
    {
     "output_type": "execute_result",
     "data": {
      "text/plain": [
       "tier                 4\n",
       "sell_price          14\n",
       "sell_time           20\n",
       "category      material\n",
       "requires           NaN\n",
       "craft_cost         NaN\n",
       "craft_time         NaN\n",
       "exp                NaN\n",
       "Name: darksteel_chunk, dtype: object"
      ]
     },
     "metadata": {},
     "execution_count": 6
    }
   ],
   "source": [
    "all_items.loc['darksteel_chunk']"
   ]
  },
  {
   "cell_type": "code",
   "execution_count": 7,
   "metadata": {},
   "outputs": [
    {
     "output_type": "execute_result",
     "data": {
      "text/plain": [
       "tier                               4\n",
       "sell_price                        88\n",
       "sell_time                         35\n",
       "category                    crafting\n",
       "requires      {'darksteel_chunk': 2}\n",
       "craft_cost                        40\n",
       "craft_time                        60\n",
       "exp                              NaN\n",
       "Name: darksteel_sheet, dtype: object"
      ]
     },
     "metadata": {},
     "execution_count": 7
    }
   ],
   "source": [
    "all_items.loc['darksteel_sheet']"
   ]
  },
  {
   "cell_type": "code",
   "execution_count": 8,
   "metadata": {},
   "outputs": [
    {
     "output_type": "execute_result",
     "data": {
      "text/plain": [
       "darksteel_ore          NaN\n",
       "darksteel_chunk        2.0\n",
       "tuvale_moss            NaN\n",
       "ashe_root              NaN\n",
       "lesser_potion          NaN\n",
       "forest_crystel         NaN\n",
       "iron_ingot             NaN\n",
       "iron_ore               NaN\n",
       "darksteel_sheet        NaN\n",
       "darksteel_platemail    NaN\n",
       "scorpion_shell         NaN\n",
       "Name: darksteel_sheet, dtype: float64"
      ]
     },
     "metadata": {},
     "execution_count": 8
    }
   ],
   "source": [
    "requires.loc['darksteel_sheet']"
   ]
  },
  {
   "cell_type": "code",
   "execution_count": 9,
   "metadata": {},
   "outputs": [
    {
     "output_type": "execute_result",
     "data": {
      "text/plain": [
       "darksteel_chunk    2.0\n",
       "Name: darksteel_sheet, dtype: float64"
      ]
     },
     "metadata": {},
     "execution_count": 9
    }
   ],
   "source": [
    "item_name = \"darksteel_sheet\"\n",
    "item_value = all_items.loc[item_name][\"sell_price\"]\n",
    "\n",
    "requires.loc[item_name].dropna()\n"
   ]
  },
  {
   "cell_type": "code",
   "execution_count": 10,
   "metadata": {},
   "outputs": [
    {
     "output_type": "stream",
     "name": "stdout",
     "text": [
      "27.0\n-4.0\n"
     ]
    }
   ],
   "source": [
    "item_name = \"lesser_potion\"\n",
    "\n",
    "items_needed = requires.loc[item_name].dropna()\n",
    "\n",
    "\n",
    "price_per_item = all_items.loc[items_needed.index]['sell_price']\n",
    "opportunity_cost = (price_per_item*items_needed).sum()\n",
    "\n",
    "\n",
    "cost_of_craft_and_opportunity = opportunity_cost + all_items.loc[item_name]['craft_cost']\n",
    "print(cost_of_craft_and_opportunity)\n",
    "profit = all_items.loc[item_name]['sell_price'] - cost_of_craft_and_opportunity\n",
    "print(profit)"
   ]
  },
  {
   "cell_type": "code",
   "execution_count": 11,
   "metadata": {},
   "outputs": [],
   "source": [
    "def craft_profit(item_name):\n",
    "    items_needed = requires.loc[item_name].dropna()\n",
    "\n",
    "\n",
    "    price_per_item = all_items.loc[items_needed.index]['sell_price']\n",
    "    opportunity_cost = (price_per_item*items_needed).sum()\n",
    "\n",
    "\n",
    "    cost_of_craft_and_opportunity = opportunity_cost + all_items.loc[item_name]['craft_cost']\n",
    "    profit = all_items.loc[item_name]['sell_price'] - cost_of_craft_and_opportunity\n",
    "    return {\n",
    "        \"oppotunity_cost\": opportunity_cost,\n",
    "        \"cost_of_craft_and_opportunity\": cost_of_craft_and_opportunity,\n",
    "        \"profit\": profit\n",
    "    }"
   ]
  },
  {
   "cell_type": "code",
   "execution_count": 12,
   "metadata": {},
   "outputs": [
    {
     "output_type": "execute_result",
     "data": {
      "text/plain": [
       "{'oppotunity_cost': 103.0,\n",
       " 'cost_of_craft_and_opportunity': 403.0,\n",
       " 'profit': -403.0}"
      ]
     },
     "metadata": {},
     "execution_count": 12
    }
   ],
   "source": [
    "craft_profit(\"scorpion_platemail\")"
   ]
  },
  {
   "cell_type": "code",
   "execution_count": 13,
   "metadata": {},
   "outputs": [
    {
     "output_type": "error",
     "ename": "SyntaxError",
     "evalue": "invalid syntax (<ipython-input-13-56073330476a>, line 3)",
     "traceback": [
      "\u001b[1;36m  File \u001b[1;32m\"<ipython-input-13-56073330476a>\"\u001b[1;36m, line \u001b[1;32m3\u001b[0m\n\u001b[1;33m    for\u001b[0m\n\u001b[1;37m        ^\u001b[0m\n\u001b[1;31mSyntaxError\u001b[0m\u001b[1;31m:\u001b[0m invalid syntax\n"
     ]
    }
   ],
   "source": [
    "def get_total_resources(item_name):\n",
    "    #Recursively go through all items and get their ingredients needed\n",
    "    for \n",
    "\n",
    "    return items_needed"
   ]
  },
  {
   "cell_type": "code",
   "execution_count": 14,
   "metadata": {},
   "outputs": [
    {
     "output_type": "execute_result",
     "data": {
      "text/plain": [
       "darksteel_chunk        2.0\n",
       "darksteel_platemail    1.0\n",
       "scorpion_shell         5.0\n",
       "Name: scorpion_platemail, dtype: float64"
      ]
     },
     "metadata": {},
     "execution_count": 14
    }
   ],
   "source": [
    "item_name = \"scorpion_platemail\"\n",
    "items_needed = requires.loc[item_name].dropna()\n",
    "items_needed"
   ]
  },
  {
   "cell_type": "code",
   "execution_count": 15,
   "metadata": {},
   "outputs": [
    {
     "output_type": "error",
     "ename": "SyntaxError",
     "evalue": "invalid syntax (<ipython-input-15-b2095975fb71>, line 19)",
     "traceback": [
      "\u001b[1;36m  File \u001b[1;32m\"<ipython-input-15-b2095975fb71>\"\u001b[1;36m, line \u001b[1;32m19\u001b[0m\n\u001b[1;33m    \"craft_price\": amount*recurv_result['craft_price']\u001b[0m\n\u001b[1;37m    ^\u001b[0m\n\u001b[1;31mSyntaxError\u001b[0m\u001b[1;31m:\u001b[0m invalid syntax\n"
     ]
    }
   ],
   "source": [
    "#get_total_resources(\"scorpion_platemail\")\n",
    "item_name = \"scorpion_platemail\"\n",
    "items_needed = requires.loc[item_name].dropna()\n",
    "item_craft_cost = craftables.loc[item_name],\n",
    "\n",
    "total_result = {\n",
    "    \"items\": pd.Series(Name=item_name),\n",
    "    \"craft_price\": 0,\n",
    "}\n",
    "\n",
    "for item, amount in items_needed.iteritems():\n",
    "    print()\n",
    "    print(item,amount)\n",
    "    if item in craftables.index:\n",
    "        craftable = craftables.loc[item]\n",
    "        recurv_result = recurv(craftable)\n",
    "        weighted_result = {\n",
    "            \"items\": amount*recurv_result['items']\n",
    "            \"craft_price\": amount*recurv_result['craft_price']\n",
    "        }\n",
    "    else:\n",
    "        weighted_result = {\n",
    "            \"items\": pd.Series(index=[item], ),\n",
    "            \"craft_price\": 0\n",
    "        }\n",
    "    total_result['items'].append(weighted_result['items'])\n",
    "\n",
    "return total_result"
   ]
  },
  {
   "cell_type": "code",
   "execution_count": 74,
   "metadata": {},
   "outputs": [
    {
     "output_type": "stream",
     "name": "stdout",
     "text": [
      "{'craft_cost': 410.0, 'resources': {'darksteel_chunk': 9.0}}\n{'craft_cost': 710.0, 'resources': {'darksteel_chunk': 11.0, 'scorpion_shell': 5.0}}\n{'craft_cost': 15.0, 'resources': {'tuvale_moss': 2.0, 'ashe_root': 2.0}}\n{'craft_cost': 95.0, 'resources': {'ashe_root': 6.0, 'tuvale_moss': 2.0, 'forest_crystel': 2.0}}\n{'craft_cost': 0, 'resources': {'ashe_root': 1}}\n"
     ]
    }
   ],
   "source": [
    "def get_total_craft_cost(item_name):\n",
    "    if(item_name not in craftables.index): \n",
    "        return {\n",
    "        \"craft_cost\": 0,\n",
    "        \"resources\": {\n",
    "                item_name: 1\n",
    "            }\n",
    "        }\n",
    "    else:\n",
    "        item_craft_cost = craftables.loc[item_name]['craft_cost']\n",
    "        total_cost = {\n",
    "            \"craft_cost\": item_craft_cost,\n",
    "            \"resources\": {\n",
    "\n",
    "            }\n",
    "        }\n",
    "        items_needed = requires.loc[item_name].dropna()\n",
    "        \n",
    "        for item, amount in items_needed.iteritems():\n",
    "            sub_cost = get_total_craft_cost(item)\n",
    "            sub_craft_cost = sub_cost['craft_cost']\n",
    "            sub_resources = sub_cost['resources']\n",
    "            total_cost['craft_cost'] = (\n",
    "                total_cost['craft_cost']\n",
    "                + amount*sub_craft_cost\n",
    "            )\n",
    "            for r, i in sub_resources.items():\n",
    "                if r in total_cost['resources']:\n",
    "                    total_cost['resources'][r] = total_cost['resources'][r] + amount*i\n",
    "                else:\n",
    "                    total_cost['resources'][r] = amount*i\n",
    "            \n",
    "\n",
    "        return total_cost\n",
    "print(get_total_craft_cost('darksteel_platemail'))\n",
    "print(get_total_craft_cost('scorpion_platemail'))\n",
    "print(get_total_craft_cost('lesser_potion'))\n",
    "print(get_total_craft_cost('xp_boost'))\n",
    "print(get_total_craft_cost('ashe_root'))"
   ]
  },
  {
   "cell_type": "code",
   "execution_count": 92,
   "metadata": {},
   "outputs": [
    {
     "output_type": "stream",
     "name": "stdout",
     "text": [
      "{\n    \"craft_cost\": 40.0,\n    \"resources\": {\n        \"darksteel_chunk\": 2.0\n    }\n}\n{'darksteel_chunk': 28.0}\nnull\n"
     ]
    },
    {
     "output_type": "error",
     "ename": "TypeError",
     "evalue": "'NoneType' object is not subscriptable",
     "traceback": [
      "\u001b[1;31m---------------------------------------------------------------------------\u001b[0m",
      "\u001b[1;31mTypeError\u001b[0m                                 Traceback (most recent call last)",
      "\u001b[1;32m<ipython-input-92-e748faee69d2>\u001b[0m in \u001b[0;36m<module>\u001b[1;34m\u001b[0m\n\u001b[0;32m     18\u001b[0m \u001b[1;33m\u001b[0m\u001b[0m\n\u001b[0;32m     19\u001b[0m     \u001b[0mprint\u001b[0m\u001b[1;33m(\u001b[0m\u001b[0mopportunity_cost\u001b[0m\u001b[1;33m)\u001b[0m\u001b[1;33m\u001b[0m\u001b[1;33m\u001b[0m\u001b[0m\n\u001b[1;32m---> 20\u001b[1;33m \u001b[0mget_profit\u001b[0m\u001b[1;33m(\u001b[0m\u001b[1;34m'darksteel_sheet'\u001b[0m\u001b[1;33m)\u001b[0m\u001b[1;33m\u001b[0m\u001b[1;33m\u001b[0m\u001b[0m\n\u001b[0m",
      "\u001b[1;32m<ipython-input-92-e748faee69d2>\u001b[0m in \u001b[0;36mget_profit\u001b[1;34m(item)\u001b[0m\n\u001b[0;32m     15\u001b[0m     \u001b[0mprice_of_items\u001b[0m \u001b[1;33m=\u001b[0m \u001b[0mget_price_of_items\u001b[0m\u001b[1;33m(\u001b[0m\u001b[0mresources\u001b[0m\u001b[1;33m)\u001b[0m\u001b[1;33m\u001b[0m\u001b[1;33m\u001b[0m\u001b[0m\n\u001b[0;32m     16\u001b[0m     \u001b[0mprint\u001b[0m\u001b[1;33m(\u001b[0m\u001b[0mjson\u001b[0m\u001b[1;33m.\u001b[0m\u001b[0mdumps\u001b[0m\u001b[1;33m(\u001b[0m\u001b[0mprice_of_items\u001b[0m\u001b[1;33m,\u001b[0m \u001b[0mindent\u001b[0m\u001b[1;33m=\u001b[0m\u001b[1;36m4\u001b[0m\u001b[1;33m)\u001b[0m\u001b[1;33m)\u001b[0m\u001b[1;33m\u001b[0m\u001b[1;33m\u001b[0m\u001b[0m\n\u001b[1;32m---> 17\u001b[1;33m     \u001b[0mopporunity_cost\u001b[0m \u001b[1;33m=\u001b[0m \u001b[0mprice_of_items\u001b[0m\u001b[1;33m[\u001b[0m\u001b[1;34m'total'\u001b[0m\u001b[1;33m]\u001b[0m\u001b[1;33m\u001b[0m\u001b[1;33m\u001b[0m\u001b[0m\n\u001b[0m\u001b[0;32m     18\u001b[0m \u001b[1;33m\u001b[0m\u001b[0m\n\u001b[0;32m     19\u001b[0m     \u001b[0mprint\u001b[0m\u001b[1;33m(\u001b[0m\u001b[0mopportunity_cost\u001b[0m\u001b[1;33m)\u001b[0m\u001b[1;33m\u001b[0m\u001b[1;33m\u001b[0m\u001b[0m\n",
      "\u001b[1;31mTypeError\u001b[0m: 'NoneType' object is not subscriptable"
     ]
    }
   ],
   "source": [
    "def get_price_of_items(item_dict):\n",
    "    per_item_type = {}\n",
    "    for item, amount in item_dict.items():\n",
    "        per_item_type[item] = amount*all_items.loc[item]['sell_price']\n",
    "    print(per_item_type)\n",
    "    # return{\n",
    "    #     \"per_item_type\": per_item_type,\n",
    "    #     \"total\": float(np.sum(per_item_type.values())\n",
    "    # }\n",
    "def get_profit(item):\n",
    "    cost = get_total_craft_cost(item)\n",
    "    print(json.dumps(cost, indent=4))\n",
    "    craft_cost = cost['craft_cost']\n",
    "    resources = cost['resources']\n",
    "    price_of_items = get_price_of_items(resources)\n",
    "    print(json.dumps(price_of_items, indent=4))\n",
    "    opporunity_cost = price_of_items['total']\n",
    "\n",
    "    print(opportunity_cost)\n",
    "get_profit('darksteel_sheet')"
   ]
  },
  {
   "cell_type": "code",
   "execution_count": 65,
   "metadata": {},
   "outputs": [
    {
     "output_type": "execute_result",
     "data": {
      "text/plain": [
       "                     darksteel_ore  darksteel_chunk  tuvale_moss  ashe_root  \\\n",
       "name                                                                          \n",
       "darksteel_ingot                2.0              NaN          NaN        NaN   \n",
       "darksteel_sheet                NaN              2.0          NaN        NaN   \n",
       "lesser_potion                  NaN              NaN          2.0        2.0   \n",
       "xp_boost                       NaN              NaN          NaN        4.0   \n",
       "iron_dagger                    NaN              NaN          NaN        NaN   \n",
       "iron_sword                     NaN              NaN          NaN        NaN   \n",
       "darksteel_platemail            NaN              1.0          NaN        NaN   \n",
       "scorpion_platemail             NaN              2.0          NaN        NaN   \n",
       "\n",
       "                     lesser_potion  forest_crystel  iron_ingot  iron_ore  \\\n",
       "name                                                                       \n",
       "darksteel_ingot                NaN             NaN         NaN       NaN   \n",
       "darksteel_sheet                NaN             NaN         NaN       NaN   \n",
       "lesser_potion                  NaN             NaN         NaN       NaN   \n",
       "xp_boost                       1.0             2.0         NaN       NaN   \n",
       "iron_dagger                    NaN             NaN         2.0       NaN   \n",
       "iron_sword                     NaN             NaN         1.0       1.0   \n",
       "darksteel_platemail            NaN             NaN         NaN       NaN   \n",
       "scorpion_platemail             NaN             NaN         NaN       NaN   \n",
       "\n",
       "                     darksteel_sheet  darksteel_platemail  scorpion_shell  \n",
       "name                                                                       \n",
       "darksteel_ingot                  NaN                  NaN             NaN  \n",
       "darksteel_sheet                  NaN                  NaN             NaN  \n",
       "lesser_potion                    NaN                  NaN             NaN  \n",
       "xp_boost                         NaN                  NaN             NaN  \n",
       "iron_dagger                      NaN                  NaN             NaN  \n",
       "iron_sword                       NaN                  NaN             NaN  \n",
       "darksteel_platemail              4.0                  NaN             NaN  \n",
       "scorpion_platemail               NaN                  1.0             5.0  "
      ],
      "text/html": "<div>\n<style scoped>\n    .dataframe tbody tr th:only-of-type {\n        vertical-align: middle;\n    }\n\n    .dataframe tbody tr th {\n        vertical-align: top;\n    }\n\n    .dataframe thead th {\n        text-align: right;\n    }\n</style>\n<table border=\"1\" class=\"dataframe\">\n  <thead>\n    <tr style=\"text-align: right;\">\n      <th></th>\n      <th>darksteel_ore</th>\n      <th>darksteel_chunk</th>\n      <th>tuvale_moss</th>\n      <th>ashe_root</th>\n      <th>lesser_potion</th>\n      <th>forest_crystel</th>\n      <th>iron_ingot</th>\n      <th>iron_ore</th>\n      <th>darksteel_sheet</th>\n      <th>darksteel_platemail</th>\n      <th>scorpion_shell</th>\n    </tr>\n    <tr>\n      <th>name</th>\n      <th></th>\n      <th></th>\n      <th></th>\n      <th></th>\n      <th></th>\n      <th></th>\n      <th></th>\n      <th></th>\n      <th></th>\n      <th></th>\n      <th></th>\n    </tr>\n  </thead>\n  <tbody>\n    <tr>\n      <th>darksteel_ingot</th>\n      <td>2.0</td>\n      <td>NaN</td>\n      <td>NaN</td>\n      <td>NaN</td>\n      <td>NaN</td>\n      <td>NaN</td>\n      <td>NaN</td>\n      <td>NaN</td>\n      <td>NaN</td>\n      <td>NaN</td>\n      <td>NaN</td>\n    </tr>\n    <tr>\n      <th>darksteel_sheet</th>\n      <td>NaN</td>\n      <td>2.0</td>\n      <td>NaN</td>\n      <td>NaN</td>\n      <td>NaN</td>\n      <td>NaN</td>\n      <td>NaN</td>\n      <td>NaN</td>\n      <td>NaN</td>\n      <td>NaN</td>\n      <td>NaN</td>\n    </tr>\n    <tr>\n      <th>lesser_potion</th>\n      <td>NaN</td>\n      <td>NaN</td>\n      <td>2.0</td>\n      <td>2.0</td>\n      <td>NaN</td>\n      <td>NaN</td>\n      <td>NaN</td>\n      <td>NaN</td>\n      <td>NaN</td>\n      <td>NaN</td>\n      <td>NaN</td>\n    </tr>\n    <tr>\n      <th>xp_boost</th>\n      <td>NaN</td>\n      <td>NaN</td>\n      <td>NaN</td>\n      <td>4.0</td>\n      <td>1.0</td>\n      <td>2.0</td>\n      <td>NaN</td>\n      <td>NaN</td>\n      <td>NaN</td>\n      <td>NaN</td>\n      <td>NaN</td>\n    </tr>\n    <tr>\n      <th>iron_dagger</th>\n      <td>NaN</td>\n      <td>NaN</td>\n      <td>NaN</td>\n      <td>NaN</td>\n      <td>NaN</td>\n      <td>NaN</td>\n      <td>2.0</td>\n      <td>NaN</td>\n      <td>NaN</td>\n      <td>NaN</td>\n      <td>NaN</td>\n    </tr>\n    <tr>\n      <th>iron_sword</th>\n      <td>NaN</td>\n      <td>NaN</td>\n      <td>NaN</td>\n      <td>NaN</td>\n      <td>NaN</td>\n      <td>NaN</td>\n      <td>1.0</td>\n      <td>1.0</td>\n      <td>NaN</td>\n      <td>NaN</td>\n      <td>NaN</td>\n    </tr>\n    <tr>\n      <th>darksteel_platemail</th>\n      <td>NaN</td>\n      <td>1.0</td>\n      <td>NaN</td>\n      <td>NaN</td>\n      <td>NaN</td>\n      <td>NaN</td>\n      <td>NaN</td>\n      <td>NaN</td>\n      <td>4.0</td>\n      <td>NaN</td>\n      <td>NaN</td>\n    </tr>\n    <tr>\n      <th>scorpion_platemail</th>\n      <td>NaN</td>\n      <td>2.0</td>\n      <td>NaN</td>\n      <td>NaN</td>\n      <td>NaN</td>\n      <td>NaN</td>\n      <td>NaN</td>\n      <td>NaN</td>\n      <td>NaN</td>\n      <td>1.0</td>\n      <td>5.0</td>\n    </tr>\n  </tbody>\n</table>\n</div>"
     },
     "metadata": {},
     "execution_count": 65
    }
   ],
   "source": []
  }
 ]
}